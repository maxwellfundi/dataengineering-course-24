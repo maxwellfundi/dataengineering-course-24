{
  "nbformat": 4,
  "nbformat_minor": 0,
  "metadata": {
    "colab": {
      "provenance": []
    },
    "kernelspec": {
      "name": "python3",
      "display_name": "Python 3"
    },
    "language_info": {
      "name": "python"
    }
  },
  "cells": [
    {
      "cell_type": "markdown",
      "source": [
        "Code Smells"
      ],
      "metadata": {
        "id": "SQtxPVfkyDQt"
      }
    },
    {
      "source": [
        "!pip install pylint\n",
        "import pandas as pd\n",
        "import io\n",
        "import sys\n",
        "\n",
        "fn = 'Final_work_Njiru_Final.ipynb'\n",
        "\n",
        "# Capture pylint output\n",
        "original_stdout = sys.stdout\n",
        "sys.stdout = io.StringIO()\n",
        "\n",
        "!pylint {fn}\n",
        "\n",
        "pylint_output = sys.stdout.getvalue()\n",
        "sys.stdout = original_stdout\n",
        "\n",
        "# Parse pylint output and create a list of dictionaries\n",
        "results = []\n",
        "for line in pylint_output.splitlines():\n",
        "    if ':' in line and 'Your code has been rated at' not in line:\n",
        "        parts = line.split(':', 3)\n",
        "        if len(parts) >= 4:\n",
        "            file_name = parts[0].strip()\n",
        "            line_number = parts[1].strip()  # Extract line number\n",
        "            message_type = parts[2].strip()  # Extract message type\n",
        "            message = parts[3].strip()  # Extract message\n",
        "            results.append({\n",
        "                'File': file_name,\n",
        "                'Line': line_number,\n",
        "                'Type': message_type,\n",
        "                'Message': message\n",
        "            })\n",
        "\n",
        "# Convert the list of dictionaries to a pandas DataFrame\n",
        "df_lint = pd.DataFrame(results)\n",
        "\n",
        "# Now you can display or use the DataFrame:\n",
        "print(df_lint)\n",
        "df_lint.to_csv('lint_results.csv', index=False)"
      ],
      "cell_type": "code",
      "metadata": {
        "colab": {
          "base_uri": "https://localhost:8080/"
        },
        "id": "tZZHQIcQ02_T",
        "outputId": "f5d6a9f6-fce1-43aa-ea5d-83792685e153"
      },
      "execution_count": 12,
      "outputs": [
        {
          "output_type": "stream",
          "name": "stdout",
          "text": [
            "Requirement already satisfied: pylint in /usr/local/lib/python3.10/dist-packages (3.3.1)\n",
            "Requirement already satisfied: platformdirs>=2.2.0 in /usr/local/lib/python3.10/dist-packages (from pylint) (4.3.6)\n",
            "Requirement already satisfied: astroid<=3.4.0-dev0,>=3.3.4 in /usr/local/lib/python3.10/dist-packages (from pylint) (3.3.5)\n",
            "Requirement already satisfied: isort!=5.13.0,<6,>=4.2.5 in /usr/local/lib/python3.10/dist-packages (from pylint) (5.13.2)\n",
            "Requirement already satisfied: mccabe<0.8,>=0.6 in /usr/local/lib/python3.10/dist-packages (from pylint) (0.7.0)\n",
            "Requirement already satisfied: tomlkit>=0.10.1 in /usr/local/lib/python3.10/dist-packages (from pylint) (0.13.2)\n",
            "Requirement already satisfied: dill>=0.2 in /usr/local/lib/python3.10/dist-packages (from pylint) (0.3.9)\n",
            "Requirement already satisfied: tomli>=1.1.0 in /usr/local/lib/python3.10/dist-packages (from pylint) (2.0.2)\n",
            "Requirement already satisfied: typing-extensions>=4.0.0 in /usr/local/lib/python3.10/dist-packages (from astroid<=3.4.0-dev0,>=3.3.4->pylint) (4.12.2)\n",
            "                              File   Line Type  \\\n",
            "0     Final_work_Njiru_Final.ipynb  27524   29   \n",
            "1     Final_work_Njiru_Final.ipynb  27567   29   \n",
            "2     Final_work_Njiru_Final.ipynb  27961   29   \n",
            "3     Final_work_Njiru_Final.ipynb  28049   29   \n",
            "4     Final_work_Njiru_Final.ipynb  28309   29   \n",
            "...                            ...    ...  ...   \n",
            "3432  Final_work_Njiru_Final.ipynb  21769    0   \n",
            "3433  Final_work_Njiru_Final.ipynb  21793    0   \n",
            "3434  Final_work_Njiru_Final.ipynb  21831    0   \n",
            "3435  Final_work_Njiru_Final.ipynb  21846    0   \n",
            "3436  Final_work_Njiru_Final.ipynb  21879    0   \n",
            "\n",
            "                                                Message  \n",
            "0     E2515: Invalid unescaped character zero-width-...  \n",
            "1     E2515: Invalid unescaped character zero-width-...  \n",
            "2     E2515: Invalid unescaped character zero-width-...  \n",
            "3     E2515: Invalid unescaped character zero-width-...  \n",
            "4     E2515: Invalid unescaped character zero-width-...  \n",
            "...                                                 ...  \n",
            "3432     C0301: Line too long (102/100) (line-too-long)  \n",
            "3433    C0301: Line too long (2292/100) (line-too-long)  \n",
            "3434     C0301: Line too long (392/100) (line-too-long)  \n",
            "3435     C0301: Line too long (102/100) (line-too-long)  \n",
            "3436     C0301: Line too long (315/100) (line-too-long)  \n",
            "\n",
            "[3437 rows x 4 columns]\n"
          ]
        }
      ]
    }
  ]
}