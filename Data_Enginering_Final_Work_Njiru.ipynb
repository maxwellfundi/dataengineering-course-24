{
  "nbformat": 4,
  "nbformat_minor": 0,
  "metadata": {
    "colab": {
      "provenance": [],
      "authorship_tag": "ABX9TyMYpLr9ESzmuhXHKgS9fL1c",
      "include_colab_link": true
    },
    "kernelspec": {
      "name": "python3",
      "display_name": "Python 3"
    },
    "language_info": {
      "name": "python"
    }
  },
  "cells": [
    {
      "cell_type": "markdown",
      "metadata": {
        "id": "view-in-github",
        "colab_type": "text"
      },
      "source": [
        "<a href=\"https://colab.research.google.com/github/maxwellfundi/dataengineering-course-24/blob/main/Data_Enginering_Final_Work_Njiru.ipynb\" target=\"_parent\"><img src=\"https://colab.research.google.com/assets/colab-badge.svg\" alt=\"Open In Colab\"/></a>"
      ]
    },
    {
      "cell_type": "code",
      "execution_count": null,
      "metadata": {
        "colab": {
          "base_uri": "https://localhost:8080/"
        },
        "id": "T02kXosCPUqI",
        "outputId": "9b97a7dc-5667-4bf9-da89-3d3f99947063"
      },
      "outputs": [
        {
          "output_type": "stream",
          "name": "stdout",
          "text": [
            "Collecting Faker\n",
            "  Downloading Faker-30.1.0-py3-none-any.whl.metadata (15 kB)\n",
            "Requirement already satisfied: python-dateutil>=2.4 in /usr/local/lib/python3.10/dist-packages (from Faker) (2.8.2)\n",
            "Requirement already satisfied: typing-extensions in /usr/local/lib/python3.10/dist-packages (from Faker) (4.12.2)\n",
            "Requirement already satisfied: six>=1.5 in /usr/local/lib/python3.10/dist-packages (from python-dateutil>=2.4->Faker) (1.16.0)\n",
            "Downloading Faker-30.1.0-py3-none-any.whl (1.8 MB)\n",
            "\u001b[2K   \u001b[90m━━━━━━━━━━━━━━━━━━━━━━━━━━━━━━━━━━━━━━━━\u001b[0m \u001b[32m1.8/1.8 MB\u001b[0m \u001b[31m18.4 MB/s\u001b[0m eta \u001b[36m0:00:00\u001b[0m\n",
            "\u001b[?25hInstalling collected packages: Faker\n",
            "Successfully installed Faker-30.1.0\n"
          ]
        }
      ],
      "source": [
        "# prompt: How can i nstall faker\n",
        "\n",
        "!pip install Faker\n"
      ]
    },
    {
      "cell_type": "code",
      "source": [
        "import pandas as pd\n",
        "import random\n",
        "from faker import Faker\n",
        "\n",
        "# Initialize Faker instance\n",
        "fake = Faker()\n",
        "\n",
        "# Define list of products\n",
        "products = ['Product A', 'Product B', 'Product C', 'Product D', 'Product E']\n",
        "\n",
        "# Generate data for 100 random individuals\n",
        "individuals = []\n",
        "for _ in range(100):\n",
        "    name = fake.name()\n",
        "    city = fake.city()\n",
        "    country = fake.country()\n",
        "    sex = random.choice(['Male', 'Female'])\n",
        "    age = random.randint(18, 80)\n",
        "    feedback_count = random.randint(1, len(products))\n",
        "    feedback = [fake.text(max_nb_chars=200) for _ in range(feedback_count)]\n",
        "    individuals.append((name, city, country, sex, age, feedback))\n",
        "\n",
        "# Generate net revenue for each product feedback\n",
        "def generate_net_revenue():\n",
        "    if random.random() < 0.05:\n",
        "        return random.randint(10000, 50000)  # Outlier\n",
        "    else:\n",
        "        return random.randint(100, 10000)\n",
        "\n",
        "# Create DataFrame\n",
        "columns = ['Name', 'City', 'Country', 'Sex', 'Age', 'Feedback', 'Product', 'Net Revenue', 'Date']\n",
        "data = []\n",
        "for individual in individuals:\n",
        "    name, city, country, sex, age, feedback = individual\n",
        "    for prod in random.sample(products, len(feedback)):\n",
        "        net_revenue = generate_net_revenue()\n",
        "        data.append((name, city, country, sex, age, feedback.pop(), prod, net_revenue, fake.date_this_decade()))\n",
        "\n",
        "df = pd.DataFrame(data, columns=columns)\n",
        "\n",
        "# Save to Excel file\n",
        "output_file = 'feedback_with_random_products.xlsx'\n",
        "df.to_excel(output_file, index=False)\n",
        "\n",
        "print(f\"Generated data saved to {output_file}.\")\n"
      ],
      "metadata": {
        "id": "Y2KdDOrNQ4kJ",
        "outputId": "b8c601cf-5d8f-4a7d-ada9-642213f60b01",
        "colab": {
          "base_uri": "https://localhost:8080/"
        }
      },
      "execution_count": null,
      "outputs": [
        {
          "output_type": "stream",
          "name": "stdout",
          "text": [
            "Generated data saved to feedback_with_random_products.xlsx.\n"
          ]
        }
      ]
    }
  ]
}